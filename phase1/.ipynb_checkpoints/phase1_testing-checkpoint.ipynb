{
 "cells": [
  {
   "cell_type": "code",
   "execution_count": 8,
   "metadata": {},
   "outputs": [
    {
     "name": "stdout",
     "output_type": "stream",
     "text": [
      "Mean Square Error to multiple linear regression 30237329286481.06\n",
      "True value in the test set in millions is poly_model: 15942\n",
      "Predicted value in the test set in millions is : 7751252.131718748\n",
      "Mean Square Error to multiple linear regression 4.158374422662773e+63\n",
      "True value in the test set in millions is poly_model: 15942\n",
      "Predicted value in the test set in millions is : 1.1124653663744815e+32\n"
     ]
    },
    {
     "name": "stderr",
     "output_type": "stream",
     "text": [
      "D:\\AI\\lib\\site-packages\\sklearn\\base.py:318: UserWarning: Trying to unpickle estimator LinearRegression from version 0.24.2 when using version 0.22.1. This might lead to breaking code or invalid results. Use at your own risk.\n",
      "  UserWarning)\n",
      "D:\\AI\\lib\\site-packages\\sklearn\\base.py:318: UserWarning: Trying to unpickle estimator LinearRegression from version 0.24.2 when using version 0.22.1. This might lead to breaking code or invalid results. Use at your own risk.\n",
      "  UserWarning)\n"
     ]
    }
   ],
   "source": [
    "import pandas as pd\n",
    "import pickle\n",
    "import preprocessing\n",
    "import learn\n",
    "import numpy as np\n",
    "from sklearn import metrics\n",
    "from sklearn.preprocessing import PolynomialFeatures\n",
    "from sklearn.model_selection import cross_val_score\n",
    "from sklearn import linear_model\n",
    "\n",
    "data = pd.read_csv('airline-test-samples.csv')\n",
    "data = preprocessing.preprocess(data)\n",
    "\n",
    "x_test = data[['airline', 'num_code', 'time_taken', 'type']]\n",
    "y_test = data['price']\n",
    "\n",
    "#Leaner\n",
    "pickled_model = pickle.load(open('len_model.sav', 'rb'))\n",
    "y_pred = pickled_model.predict(x_test)\n",
    "\n",
    "true_value=np.asarray(y_test)[0]\n",
    "predicted_value=y_pred[0]\n",
    "print('Mean Square Error to multiple linear regression', metrics.mean_squared_error(y_pred, y_test))\n",
    "print('True value in the test set in millions is poly_model: ' + str(true_value))\n",
    "print('Predicted value in the test set in millions is : ' + str(predicted_value))\n",
    "#Polynomial\n",
    "poly = PolynomialFeatures(degree=7)\n",
    "x_test = poly.fit_transform(x_test)\n",
    "pickled_model = pickle.load(open('poly_model.sav', 'rb'))\n",
    "y_pred = pickled_model.predict(x_test)\n",
    "\n",
    "true_value=np.asarray(y_test)[0]\n",
    "predicted_value=y_pred[0]\n",
    "print('Mean Square Error to multiple linear regression', metrics.mean_squared_error(y_pred, y_test))\n",
    "print('True value in the test set in millions is poly_model: ' + str(true_value))\n",
    "print('Predicted value in the test set in millions is : ' + str(predicted_value))"
   ]
  }
 ],
 "metadata": {
  "kernelspec": {
   "display_name": "Python 3",
   "language": "python",
   "name": "python3"
  },
  "language_info": {
   "codemirror_mode": {
    "name": "ipython",
    "version": 3
   },
   "file_extension": ".py",
   "mimetype": "text/x-python",
   "name": "python",
   "nbconvert_exporter": "python",
   "pygments_lexer": "ipython3",
   "version": "3.7.6"
  }
 },
 "nbformat": 4,
 "nbformat_minor": 5
}
