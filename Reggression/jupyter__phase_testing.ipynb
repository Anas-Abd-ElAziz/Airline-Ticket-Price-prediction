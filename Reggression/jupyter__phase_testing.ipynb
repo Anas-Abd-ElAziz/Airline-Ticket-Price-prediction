{
 "cells": [
  {
   "cell_type": "code",
   "execution_count": 1,
   "id": "94ba29df",
   "metadata": {},
   "outputs": [],
   "source": [
    "import pandas as pd\n",
    "import pickle\n",
    "import preprocessing\n",
    "import learn\n",
    "import numpy as np\n",
    "from sklearn import metrics\n",
    "from sklearn.preprocessing import PolynomialFeatures\n",
    "from sklearn.model_selection import cross_val_score\n",
    "from sklearn import linear_model\n",
    "from sklearn.ensemble import GradientBoostingRegressor\n",
    "import time"
   ]
  },
  {
   "cell_type": "code",
   "execution_count": 2,
   "id": "9c07b271",
   "metadata": {},
   "outputs": [],
   "source": [
    "data = pd.read_csv('airline-test-samples.csv')\n",
    "data = preprocessing.preprocess(data)\n",
    "\n",
    "x_test = data[['airline', 'num_code', 'time_taken', 'type']]\n",
    "y_test = data['price']"
   ]
  },
  {
   "cell_type": "code",
   "execution_count": 3,
   "id": "bcf9814f",
   "metadata": {},
   "outputs": [
    {
     "name": "stdout",
     "output_type": "stream",
     "text": [
      "Time execution  0.005020618438720703\n",
      "MSE 30237329286481.06\n",
      "True value: [15942  2738  4158]\n",
      "Predicted value: [7751252.13171875 1579883.69948641 5332344.97759041]\n"
     ]
    }
   ],
   "source": [
    "#Leaner\n",
    "start = time.time()\n",
    "pickled_model = pickle.load(open('len_model.sav', 'rb'))\n",
    "y_pred = pickled_model.predict(x_test)\n",
    "\n",
    "print(\"Time execution \" ,time.time()- start)\n",
    "print('MSE', metrics.mean_squared_error(y_pred, y_test))\n",
    "print('True value: ' + str(np.asarray(y_test)))\n",
    "print('Predicted value: ' + str(y_pred))"
   ]
  },
  {
   "cell_type": "code",
   "execution_count": 4,
   "id": "7c38b0c2",
   "metadata": {},
   "outputs": [
    {
     "name": "stdout",
     "output_type": "stream",
     "text": [
      "Time execution  0.10809087753295898\n",
      "MSE 1.5987496031970328e+63\n",
      "True value: [15942  2738  4158]\n",
      "Predicted value: [6.91484704e+31 1.59256728e+27 3.83899090e+30]\n"
     ]
    }
   ],
   "source": [
    "#Polynomial\n",
    "start = time.time()\n",
    "pickled_model = pickle.load(open('poly_model.sav', 'rb'))\n",
    "x_test_poly = PolynomialFeatures(degree=7).fit_transform(x_test)\n",
    "y_pred = pickled_model.predict(x_test_poly)\n",
    "\n",
    "print(\"Time execution \" ,time.time()- start)\n",
    "print('MSE', metrics.mean_squared_error(y_pred, y_test))\n",
    "print('True value: ' + str(np.asarray(y_test)))\n",
    "print('Predicted value: ' + str(y_pred))"
   ]
  },
  {
   "cell_type": "code",
   "execution_count": 5,
   "id": "cd15cbb3",
   "metadata": {},
   "outputs": [
    {
     "name": "stdout",
     "output_type": "stream",
     "text": [
      "Time execution  0.02995157241821289\n",
      "MSE 29418887.586407974\n",
      "True value: [15942  2738  4158]\n",
      "Predicted value: [7095.07525883 3834.13419479 7122.3001215 ]\n"
     ]
    }
   ],
   "source": [
    "#GradientBoostingRegressor\n",
    "start = time.time()\n",
    "pickled_model = pickle.load(open('gbr.sav', 'rb'))\n",
    "y_pred = pickled_model.predict(x_test)\n",
    "\n",
    "print(\"Time execution \" ,time.time()- start)\n",
    "print('MSE', metrics.mean_squared_error(y_pred, y_test))\n",
    "print('True value: ' + str(np.asarray(y_test)))\n",
    "print('Predicted value: ' + str(y_pred))"
   ]
  },
  {
   "cell_type": "code",
   "execution_count": 7,
   "id": "517c93e2",
   "metadata": {},
   "outputs": [
    {
     "name": "stdout",
     "output_type": "stream",
     "text": [
      "Time execution  0.015954256057739258\n",
      "MSE 25654006.0\n",
      "True value: [15942  2738  4158]\n",
      "Predicted value: [7696.109  3677.2678 7001.4277]\n"
     ]
    }
   ],
   "source": [
    "#XGB Regressor\n",
    "start = time.time()\n",
    "pickled_model = pickle.load(open('xgb_r.sav', 'rb'))\n",
    "y_pred = pickled_model.predict(x_test)\n",
    "\n",
    "print(\"Time execution \" ,time.time()- start)\n",
    "print('MSE', metrics.mean_squared_error(y_pred, y_test))\n",
    "print('True value: ' + str(np.asarray(y_test)))\n",
    "print('Predicted value: ' + str(y_pred))"
   ]
  },
  {
   "cell_type": "code",
   "execution_count": null,
   "id": "d47d3c5b",
   "metadata": {},
   "outputs": [],
   "source": []
  }
 ],
 "metadata": {
  "kernelspec": {
   "display_name": "Python 3 (ipykernel)",
   "language": "python",
   "name": "python3"
  },
  "language_info": {
   "codemirror_mode": {
    "name": "ipython",
    "version": 3
   },
   "file_extension": ".py",
   "mimetype": "text/x-python",
   "name": "python",
   "nbconvert_exporter": "python",
   "pygments_lexer": "ipython3",
   "version": "3.9.7"
  }
 },
 "nbformat": 4,
 "nbformat_minor": 5
}
