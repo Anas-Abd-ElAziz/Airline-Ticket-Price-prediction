{
 "cells": [
  {
   "cell_type": "code",
   "execution_count": 1,
   "id": "baf3d8c9",
   "metadata": {},
   "outputs": [],
   "source": [
    "import pickle\n",
    "import preprocessing\n",
    "import learn\n",
    "import numpy as np\n",
    "import pandas as pd\n",
    "import xgboost as xg\n",
    "from sklearn import metrics\n",
    "from sklearn.preprocessing import PolynomialFeatures\n",
    "from sklearn.model_selection import cross_val_score\n",
    "from sklearn import linear_model\n",
    "from sklearn.ensemble import GradientBoostingRegressor\n",
    "from sklearn.model_selection import train_test_split\n",
    "import time"
   ]
  },
  {
   "cell_type": "code",
   "execution_count": 2,
   "id": "57272c50",
   "metadata": {},
   "outputs": [
    {
     "name": "stdout",
     "output_type": "stream",
     "text": [
      "                 date   airline  num_code  dep_time  time_taken      stop  \\\n",
      "date         1.000000 -0.008188  0.004936  0.003579    0.001444 -0.001885   \n",
      "airline     -0.008188  1.000000 -0.271604  0.023440    0.249983  0.118826   \n",
      "num_code     0.004936 -0.271604  1.000000 -0.014270   -0.134980 -0.061468   \n",
      "dep_time     0.003579  0.023440 -0.014270  1.000000    0.141720 -0.061447   \n",
      "time_taken   0.001444  0.249983 -0.134980  0.141720    1.000000  0.468490   \n",
      "stop        -0.001885  0.118826 -0.061468 -0.061447    0.468490  1.000000   \n",
      "arr_time    -0.002045  0.144036 -0.004991 -0.154173   -0.020446  0.063100   \n",
      "type        -0.007781  0.399668 -0.217631  0.039651    0.139256  0.000153   \n",
      "price       -0.012626  0.428142 -0.213285  0.033017    0.205602  0.119394   \n",
      "source       0.009515 -0.061232 -0.012829  0.017555   -0.064003 -0.057878   \n",
      "destination -0.000247 -0.076788  0.019112 -0.034472   -0.142310 -0.122857   \n",
      "\n",
      "             arr_time      type     price    source  destination  \n",
      "date        -0.002045 -0.007781 -0.012626  0.009515    -0.000247  \n",
      "airline      0.144036  0.399668  0.428142 -0.061232    -0.076788  \n",
      "num_code    -0.004991 -0.217631 -0.213285 -0.012829     0.019112  \n",
      "dep_time    -0.154173  0.039651  0.033017  0.017555    -0.034472  \n",
      "time_taken  -0.020446  0.139256  0.205602 -0.064003    -0.142310  \n",
      "stop         0.063100  0.000153  0.119394 -0.057878    -0.122857  \n",
      "arr_time     1.000000  0.053138  0.077036 -0.013757    -0.023655  \n",
      "type         0.053138  1.000000  0.937784 -0.005976    -0.015764  \n",
      "price        0.077036  0.937784  1.000000 -0.026512    -0.035125  \n",
      "source      -0.013757 -0.005976 -0.026512  1.000000    -0.200408  \n",
      "destination -0.023655 -0.015764 -0.035125 -0.200408     1.000000  \n"
     ]
    },
    {
     "data": {
      "image/png": "[encoded data removed]",
      "text/plain": [
       "<Figure size 432x288 with 2 Axes>"
      ]
     },
     "metadata": {
      "needs_background": "light"
     },
     "output_type": "display_data"
    }
   ],
   "source": [
    "data = pd.read_csv('airline-price-prediction.csv')\n",
    "data = preprocessing.preprocess(data)\n",
    "top_feature = learn.correlateData(data)\n",
    "Y=data['price'] #Goal\n",
    "X=data[top_feature]\n",
    "X = X.drop(['price'], axis = 1)"
   ]
  },
  {
   "cell_type": "code",
   "execution_count": 10,
   "id": "45e15fe8",
   "metadata": {},
   "outputs": [
    {
     "name": "stdout",
     "output_type": "stream",
     "text": [
      "GBR MSE 29323565.241499927\n",
      "true_value =  [ 6468  5276 38590 ... 65529  9092  9945]\n",
      "prediction_value =  [ 3466.70438412  7034.18745205 32249.32016872 ... 59739.68009065\n",
      "  5844.65538669  7783.12794836]\n",
      "Time execution  126.59587669372559\n"
     ]
    }
   ],
   "source": [
    "#GradientBoostingRegressor\n",
    "start = time.time()\n",
    "x_train, x_test, y_train, y_test = train_test_split(X, Y, test_size=0.4, random_state=10)\n",
    "gbr_params = {'n_estimators': 1000,'max_depth': 3, 'learning_rate': 0.01}\n",
    "gbr = GradientBoostingRegressor(**gbr_params).fit(x_train, y_train)\n",
    "pred = gbr.predict(x_test)\n",
    "print('GBR MSE', metrics.mean_squared_error(y_test, pred))\n",
    "print('true_value = ',np.asarray(y_test)[:])\n",
    "print('prediction_value = ',pred[:])\n",
    "print(\"Time execution \" ,time.time()- start)\n",
    "pickle.dump(gbr, open('gbr.sav', 'wb'))"
   ]
  },
  {
   "cell_type": "code",
   "execution_count": 14,
   "id": "c5100ab3",
   "metadata": {},
   "outputs": [
    {
     "name": "stdout",
     "output_type": "stream",
     "text": [
      "[07:09:41] WARNING: C:/Users/Administrator/workspace/xgboost-win64_release_1.6.0/src/objective/regression_obj.cu:203: reg:linear is now deprecated in favor of reg:squarederror.\n",
      "XGB MSE 27172449.162794434\n",
      "true_value =  6468\n",
      "prediction_value =  3835.15\n",
      "Time execution  0.5477027893066406\n"
     ]
    }
   ],
   "source": [
    "#XGB Regressor\n",
    "start = time.time()\n",
    "x_train, x_test, y_train, y_test = train_test_split(X, Y, test_size=0.4, random_state=10)\n",
    "xgb_r = xg.XGBRegressor(objective='reg:linear', n_estimators=10)\n",
    "xgb_r.fit(x_train, y_train)\n",
    "pred = xgb_r.predict(x_test)\n",
    "print('XGB MSE', metrics.mean_squared_error(y_test, pred))\n",
    "print('true_value = ',np.asarray(y_test)[0])\n",
    "print('prediction_value = ',pred[0])\n",
    "print(\"Time execution \" ,time.time()- start)\n",
    "pickle.dump(xgb_r, open('xgb_r.sav', 'wb'))"
   ]
  },
  {
   "cell_type": "code",
   "execution_count": null,
   "id": "ca05f2f6",
   "metadata": {},
   "outputs": [],
   "source": []
  },
  {
   "cell_type": "code",
   "execution_count": 15,
   "id": "116c1543",
   "metadata": {},
   "outputs": [
    {
     "name": "stdout",
     "output_type": "stream",
     "text": [
      "Time execution  0.024338960647583008\n",
      "MSE 29418887.586408257\n",
      "True value: 15942\n",
      "Predicted value: 7095.075258830354\n"
     ]
    }
   ],
   "source": [
    "data = pd.read_csv('airline-test-samples.csv')\n",
    "data = preprocessing.preprocess(data)\n",
    "\n",
    "x_test = data[['airline', 'num_code', 'time_taken', 'type']]\n",
    "y_test = data['price']\n",
    "\n",
    "#GBR\n",
    "start = time.time()\n",
    "pickled_model = pickle.load(open('gbr.sav', 'rb'))\n",
    "y_pred = pickled_model.predict(x_test)\n",
    "\n",
    "print(\"Time execution \" ,time.time()- start)\n",
    "print('MSE', metrics.mean_squared_error(y_pred, y_test))\n",
    "print('True value: ' + str(np.asarray(y_test)[0]))\n",
    "print('Predicted value: ' + str(y_pred[0]))"
   ]
  },
  {
   "cell_type": "code",
   "execution_count": 16,
   "id": "ecf59308",
   "metadata": {},
   "outputs": [
    {
     "name": "stdout",
     "output_type": "stream",
     "text": [
      "Time execution  0.011109590530395508\n",
      "MSE 25654006.0\n",
      "True value: 15942\n",
      "Predicted value: 7696.109\n"
     ]
    }
   ],
   "source": [
    "data = pd.read_csv('airline-test-samples.csv')\n",
    "data = preprocessing.preprocess(data)\n",
    "\n",
    "x_test = data[['airline', 'num_code', 'time_taken', 'type']]\n",
    "y_test = data['price']\n",
    "\n",
    "#XGB\n",
    "start = time.time()\n",
    "pickled_model = pickle.load(open('xgb_r.sav', 'rb'))\n",
    "y_pred = pickled_model.predict(x_test)\n",
    "\n",
    "print(\"Time execution \" ,time.time()- start)\n",
    "print('MSE', metrics.mean_squared_error(y_pred, y_test))\n",
    "print('True value: ' + str(np.asarray(y_test)[0]))\n",
    "print('Predicted value: ' + str(y_pred[0]))"
   ]
  },
  {
   "cell_type": "code",
   "execution_count": null,
   "id": "83f11a1a",
   "metadata": {},
   "outputs": [],
   "source": []
  }
 ],
 "metadata": {
  "kernelspec": {
   "display_name": "Python 3 (ipykernel)",
   "language": "python",
   "name": "python3"
  },
  "language_info": {
   "codemirror_mode": {
    "name": "ipython",
    "version": 3
   },
   "file_extension": ".py",
   "mimetype": "text/x-python",
   "name": "python",
   "nbconvert_exporter": "python",
   "pygments_lexer": "ipython3",
   "version": "3.9.7"
  }
 },
 "nbformat": 4,
 "nbformat_minor": 5
}
